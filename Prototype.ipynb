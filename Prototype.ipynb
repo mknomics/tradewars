{
  "nbformat": 4,
  "nbformat_minor": 0,
  "metadata": {
    "colab": {
      "name": "Prototype.ipynb",
      "provenance": [],
      "collapsed_sections": [],
      "authorship_tag": "ABX9TyMZbO8noPBgtm5Vjb9nCASw",
      "include_colab_link": true
    },
    "kernelspec": {
      "name": "python3",
      "display_name": "Python 3"
    }
  },
  "cells": [
    {
      "cell_type": "markdown",
      "metadata": {
        "id": "view-in-github",
        "colab_type": "text"
      },
      "source": [
        "<a href=\"https://colab.research.google.com/github/mknomics/tradewars/blob/LSTM/Prototype.ipynb\" target=\"_parent\"><img src=\"https://colab.research.google.com/assets/colab-badge.svg\" alt=\"Open In Colab\"/></a>"
      ]
    },
    {
      "cell_type": "markdown",
      "metadata": {
        "id": "AJ-olLWGvVBa",
        "colab_type": "text"
      },
      "source": [
        "\n",
        "\n",
        "# Towards a causal ML model (In Development)\n",
        "\n",
        "This code is not yet complete.  Currently I am working on a single file in the data repository.  Using a LSTM framework, I predict the time series of US imports of Chinese Goods at the product level.  \n",
        "\n",
        "Note: Need to explore options to speed training and parameter value search up\n",
        "\n"
      ]
    },
    {
      "cell_type": "code",
      "metadata": {
        "id": "sFzbNCTc-xlS",
        "colab_type": "code",
        "colab": {
          "base_uri": "https://localhost:8080/",
          "height": 263
        },
        "outputId": "e4af79fa-d4c0-4395-c7c9-497a22660e6b"
      },
      "source": [
        "import tensorflow as tf\n",
        "import numpy as np\n",
        "import pandas as pd\n",
        "import matplotlib.pyplot as plt\n",
        "import os \n",
        "import zipfile\n",
        "import time\n",
        "#within module imports\n",
        "from numpy import array\n",
        "from numpy import hstack\n",
        "\n",
        "from keras.models import Sequential\n",
        "from keras.layers import Dense\n",
        "from keras.layers import LSTM\n",
        "from keras.layers import Dropout\n",
        "from keras.layers import Flatten\n",
        "from keras.layers import CuDNNLSTM\n",
        "from keras.preprocessing.sequence import TimeseriesGenerator\n",
        "from keras import metrics\n",
        "from keras.optimizers import SGD\n",
        "\n",
        "from hyperopt import hp, fmin, tpe, STATUS_OK, Trials\n",
        "\n",
        "from sklearn.preprocessing import MinMaxScaler\n",
        "    \n",
        "\n",
        "url_names = 'https://raw.githubusercontent.com/mknomics/tradewars/master/pid.csv'\n",
        "df_names = pd.read_csv(url_names)\n",
        "\n",
        "\n",
        "#url = 'https://raw.githubusercontent.com/mknomics/tradewars/master/final'+str(df_names['pid'][ind])+'.csv'\n",
        "url = 'https://raw.githubusercontent.com/mknomics/tradewars/master/final1268.csv'\n",
        "df = pd.read_csv(url)\n",
        "#df.head()\n",
        "#first row has N/A values - drop this row\n",
        "#print(df.isna().sum())\n",
        "df = df.drop(index=0)\n",
        "period = df['period']\n",
        "linear_x=df['x'].values\n",
        "df = df.drop(columns=['x', 'T', 'r2', 's', 'sf', '_merge','period','HS7','pid','month', '_Imonth_2', '_Imonth_3', '_Imonth_4', '_Imonth_5', '_Imonth_6', '_Imonth_7', '_Imonth_8', '_Imonth_9', '_Imonth_10', '_Imonth_11', '_Imonth_12'])\n",
        "\n",
        "#define X and Y sets\n",
        "X = df.iloc[:,1:].values\n",
        "Y = df.iloc[:,0].values\n",
        "Y = np.reshape(Y, (Y.shape[0],1))\n",
        "linear_x = np.reshape(linear_x, (linear_x.shape[0], 1))\n",
        "\n",
        "\n",
        "def scale_data(X,Y, linear_x):\n",
        "    #scale X and Y\n",
        "    X_scaler = MinMaxScaler(feature_range=(0,1))\n",
        "    Y_scaler = MinMaxScaler(feature_range=(0,1))\n",
        "    x_scaler = MinMaxScaler(feature_range=(0,1))\n",
        "    scaled_X = pd.DataFrame(X_scaler.fit_transform(X))\n",
        "    scaled_Y = pd.DataFrame(Y_scaler.fit_transform(Y))\n",
        "    scaled_linear = pd.DataFrame(x_scaler.fit_transform(linear_x))\n",
        "    return scaled_X, scaled_Y, scaled_linear\n",
        "\n",
        "scaled_X, scaled_Y, scaled_linear = scale_data(X,Y, linear_x)\n",
        "timesteps = 6\n",
        "\n",
        "\n",
        "\n",
        "def timesplit(scaled_X, scaled_Y, timesteps=True):\n",
        "    '''\n",
        "    splits data into sets that can accommodate a windowsize = timesteps\n",
        "    '''\n",
        "    #define pre-treatment period\n",
        "    X_pre = scaled_X.iloc[:90,:].values\n",
        "    Y_pre = scaled_Y.iloc[:90,:].values\n",
        "\n",
        "    #define training sets\n",
        "    X_train = X_pre[0:-(timesteps+2),:]\n",
        "    Y_train = Y_pre[0:-(timesteps+2),:]\n",
        "\n",
        "    #define validation sets\n",
        "    X_validate = X_pre[-(timesteps+1):,:]\n",
        "    Y_validate = Y_pre[-(timesteps+1):,:]\n",
        "\n",
        "    #define test set, note that test set cannot be used with a data generator and a window = 12\n",
        "    #X_test_scaled = X_train.iloc[91:99,:]\n",
        "    #Y_test_scaled = Y_train.iloc[:,0]\n",
        "\n",
        "    '''\n",
        "    After hyperparameter optimization, I want to then fit the model on both sets\n",
        "    '''\n",
        "    #Fit set = train + validate\n",
        "    Y_fit = np.concatenate((Y_train, Y_validate), axis=0)\n",
        "    X_fit = np.concatenate((X_train, X_validate), axis=0)\n",
        "\n",
        "    return X_pre, Y_pre, X_train, Y_train, X_validate, Y_validate, X_fit, Y_fit\n",
        "\n",
        "\n",
        "X_pre, Y_pre, X_train, Y_train, X_validate, Y_validate, X_fit, Y_fit = timesplit(scaled_X, scaled_Y, timesteps=timesteps)\n",
        "\n",
        "n_features = X_fit.shape[1]\n",
        "\n",
        "print(\"X_train shape\", X_train.shape, \"X_validate shape:\", X_validate.shape, \"X_fit shape:\", X_fit.shape, \"X shape:\", X.shape)\n",
        "print(\"Y_train shape\", Y_train.shape, \"Y_validate shape:\", Y_validate.shape, \"Y_fit shape\", Y_fit.shape, \"Y shape\", Y.shape)\n",
        "\n",
        "timesteps=12\n",
        "def make_generators(timesteps, X_train, Y_train, X_validate, Y_validate, X_fit, Y_fit):\n",
        "    #Create training and validtion generators\n",
        "    train_generator = TimeseriesGenerator(data=X_train, \n",
        "                                          targets=Y_train, \n",
        "                                          length=timesteps, \n",
        "                                          batch_size=timesteps)\n",
        "    validation_generator = TimeseriesGenerator(data=X_validate, \n",
        "                                               targets=Y_validate, \n",
        "                                               length=timesteps, \n",
        "                                               batch_size=timesteps)\n",
        "    #after model selection then fit on training + validation data\n",
        "    fit_generator = TimeseriesGenerator(data=X_fit, \n",
        "                                        targets=Y_fit, \n",
        "                                        length=timesteps, \n",
        "                                        batch_size=timesteps)\n",
        "    return train_generator, validation_generator, fit_generator\n",
        "\n",
        "\n",
        "def objective(space):\n",
        "    '''#define a model for hyperparameter optimization, then take those optimal \n",
        "    values to define our optimal model.  Some computation is wasted here and this \n",
        "    can be improved on, but right now I am still prototyping the model.'''\n",
        "\n",
        "    timesteps = space['timesteps']\n",
        "    print(timesteps)\n",
        "    X_pre, Y_pre, X_train, Y_train, X_validate, Y_validate, X_fit, Y_fit = timesplit(scaled_X, scaled_Y, timesteps=timesteps)\n",
        "    train_generator, validation_generator, fit_generator = make_generators(timesteps, X_train, Y_train, X_validate, Y_validate, X_fit, Y_fit)\n",
        "\n",
        "    #prediction model for post treatment\n",
        "    #full_generator = TimeseriesGenerator(data=X, targets=Y, length=timesteps, batch_size=timesteps)\n",
        "\n",
        "    def lstm_model(nodes=n_features, \n",
        "                    timesteps=timesteps):\n",
        "        #make model\n",
        "        model = Sequential()\n",
        "\n",
        "        model.add(LSTM(nodes, \n",
        "                      input_shape=(timesteps, n_features), \n",
        "                      activation=\"relu\", \n",
        "                      return_sequences=True))   \n",
        "        model.add(Dropout(space['dropout']))\n",
        "        if space['layers']!=2:\n",
        "            model.add(LSTM(nodes, \n",
        "                          input_shape=(timesteps, n_features), \n",
        "                          activation=\"relu\", \n",
        "                          return_sequences=True))   \n",
        "            model.add(Dropout(space['dropout']))          \n",
        "        elif space['layers']==3:\n",
        "            model.add(LSTM(nodes, \n",
        "                          input_shape=(timesteps, n_features), \n",
        "                          activation=\"relu\", \n",
        "                          return_sequences=True))   \n",
        "            model.add(Dropout(space['dropout']))\n",
        "        model.add(Flatten())\n",
        "        model.add(Dense(timesteps))\n",
        "        model.add(Dense(1)) \n",
        "\n",
        "        model.compile(loss='mean_squared_error', \n",
        "                      optimizer='adam', \n",
        "                      metrics=['mean_squared_error'])\n",
        "        return model\n",
        "\n",
        "    model = lstm_model(nodes=n_features, timesteps=timesteps)\n",
        "\n",
        "    # fit model\n",
        "    train_history = model.fit_generator(train_generator, \n",
        "                                        validation_data=validation_generator, \n",
        "                                        steps_per_epoch=1, \n",
        "                                        epochs=space['epochs'], \n",
        "                                        verbose=0)  \n",
        "    \n",
        "    return {'loss': train_history.history['val_loss'][-1] , 'status': STATUS_OK}\n",
        "\n",
        "epoch_space = [20, 200, 400]\n",
        "timestep_space = [6, 12]\n",
        "layers_space = [1, 2, 3]\n",
        "\n",
        "space = {'epochs': hp.choice('p_epochs', epoch_space),\n",
        "         'dropout': hp.uniform('p_dropout', 0.1, 0.5),\n",
        "         'timesteps': hp.choice('p_timesteps', timestep_space),\n",
        "         'layers': hp.choice('p_layers', layers_space)}\n",
        "\n",
        "trials = Trials()     \n",
        "best = fmin(fn=objective, space=space, algo=tpe.suggest, max_evals=10, trials=trials)  \n",
        "  \n",
        "dropout = trials.best_trial['misc']['vals']['p_dropout'][0]\n",
        "epochs = epoch_space[trials.best_trial['misc']['vals']['p_epochs'][0]]\n",
        "timesteps = timestep_space[trials.best_trial['misc']['vals']['p_timesteps'][0]]\n",
        "layers = layers_space[trials.best_trial['misc']['vals']['p_layers'][0]]\n",
        "print(\"dropout:\", dropout, \"epochs:\", epochs, \"timesteps\", timesteps, \"layers\", layers)\n",
        "\n"
      ],
      "execution_count": 96,
      "outputs": [
        {
          "output_type": "stream",
          "text": [
            "X_train shape (82, 95) X_validate shape: (7, 95) X_fit shape: (89, 95) X shape: (107, 95)\n",
            "Y_train shape (82, 1) Y_validate shape: (7, 1) Y_fit shape (89, 1) Y shape (107, 1)\n",
            "12\n",
            "12\n",
            "6\n",
            "12\n",
            "6\n",
            "12\n",
            "12\n",
            "12\n",
            "6\n",
            "6\n",
            "100%|██████████| 10/10 [08:09<00:00, 55.63s/it, best loss: 0.0007720949943177402]\n",
            "dropout: 0.12098429619536755 epochs: 400 timesteps 6 layers 3\n"
          ],
          "name": "stdout"
        }
      ]
    },
    {
      "cell_type": "markdown",
      "metadata": {
        "id": "lY971KfvwqKN",
        "colab_type": "text"
      },
      "source": [
        "# Now train an optimal model"
      ]
    },
    {
      "cell_type": "code",
      "metadata": {
        "id": "OoGG0SHoT7Iv",
        "colab_type": "code",
        "colab": {}
      },
      "source": [
        "def lstm_opt_model(nodes=n_features, timesteps=timesteps, layers=layers, dropout=dropout):\n",
        "    #make model\n",
        "    model = Sequential()\n",
        "\n",
        "    model.add(LSTM(nodes, \n",
        "                  input_shape=(timesteps, n_features), \n",
        "                  activation=\"relu\", \n",
        "                  return_sequences=True))   \n",
        "    model.add(Dropout(dropout))\n",
        "\n",
        "    if layers!=2:\n",
        "        model.add(LSTM(nodes, \n",
        "                      input_shape=(timesteps, n_features), \n",
        "                      activation=\"relu\", \n",
        "                      return_sequences=True))   \n",
        "        model.add(Dropout(dropout))        \n",
        "    elif layers==3:\n",
        "        model.add(LSTM(nodes, \n",
        "                      input_shape=(timesteps, n_features), \n",
        "                      activation=\"relu\", \n",
        "                      return_sequences=True))   \n",
        "        model.add(Dropout(dropout))\n",
        "\n",
        "    model.add(Flatten())\n",
        "    model.add(Dense(timesteps))\n",
        "    model.add(Dense(1)) \n",
        "\n",
        "    model.compile(loss='mean_squared_error', \n",
        "                  optimizer='adam', \n",
        "                  metrics=['mean_squared_error'])\n",
        "    return model\n",
        "\n",
        "\n",
        "\n",
        "X_pre, Y_pre, X_train, Y_train, X_validate, Y_validate, X_fit, Y_fit = timesplit(scaled_X, scaled_Y, timesteps=timesteps)\n",
        "train_generator, validation_generator, fit_generator = make_generators(timesteps, X_train, Y_train, X_validate, Y_validate, X_fit, Y_fit)\n",
        "\n",
        "model = lstm_opt_model(nodes=n_features, timesteps=timesteps)\n",
        "\n",
        "# fit model\n",
        "train_history = model.fit_generator(train_generator, validation_data=validation_generator, epochs=epochs, verbose=0)  \n",
        "\n"
      ],
      "execution_count": 0,
      "outputs": []
    },
    {
      "cell_type": "markdown",
      "metadata": {
        "id": "f68eTM97w3GS",
        "colab_type": "text"
      },
      "source": [
        "# Plot Loss Curves and also Time Series Predictions vs. Actual to make a visual evaluation."
      ]
    },
    {
      "cell_type": "code",
      "metadata": {
        "id": "Ht4fr1Jvrr9O",
        "colab_type": "code",
        "colab": {
          "base_uri": "https://localhost:8080/",
          "height": 543
        },
        "outputId": "cd5afc17-bd47-4d08-e6c2-bc758d59e0cf"
      },
      "source": [
        "# summarize history for loss\n",
        "def plot_loss(train_history=train_history, title='model loss'):\n",
        "    plt.plot(train_history.history['mean_squared_error'])\n",
        "    plt.plot(train_history.history['val_mean_squared_error'])\n",
        "    plt.title('title')\n",
        "    plt.ylabel('mse')\n",
        "    plt.xlabel('epoch')\n",
        "    plt.legend(['train', 'test'], loc='upper left')\n",
        "    return plt.show()\n",
        "\n",
        "#plot predictions vs actual\n",
        "def plot_pred_actual(fit_generator, Y_fit, X_train):\n",
        "    yhat_val = model.predict_generator(generator=fit_generator)\n",
        "    dt = 1\n",
        "    t = np.arange(0, yhat_val.shape[0], dt)\n",
        "    #scale t accordingly, since first values are not used\n",
        "    t = t+timesteps\n",
        "    plt.plot(t, Y_fit[timesteps:, :], t, yhat_val)\n",
        "    plt.axvline(x=(X_train.shape[0]), color='red', linestyle='--')\n",
        "    return plt.show()\n",
        "plot_loss(train_history=train_history, title='model loss: timesteps=6')\n",
        "\n",
        "plot_pred_actual(fit_generator, Y_fit, X_train)"
      ],
      "execution_count": 98,
      "outputs": [
        {
          "output_type": "display_data",
          "data": {
            "image/png": "[encoded data removed]",
            "text/plain": [
              "<Figure size 432x288 with 1 Axes>"
            ]
          },
          "metadata": {
            "tags": []
          }
        },
        {
          "output_type": "display_data",
          "data": {
            "image/png": "[encoded data removed]",
            "text/plain": [
              "<Figure size 432x288 with 1 Axes>"
            ]
          },
          "metadata": {
            "tags": []
          }
        }
      ]
    },
    {
      "cell_type": "markdown",
      "metadata": {
        "id": "aRgIQ_45xBCz",
        "colab_type": "text"
      },
      "source": [
        "# Red Dash splits training/val sets: Model still seems to be overfit even after minimizing validation loss\n",
        "Solutions\n",
        "\n",
        "1) adjust the hyperparameter space, make a bigger grid, add other parameters?\n",
        "\n",
        "2) Add regularization\n",
        "\n",
        "3) create my own definition of loss.  Can I minimize a weighted 2D space instead of a single metric?  Perhaps adding another dimension such as:\n",
        "\n",
        "{max[abs(validation error)] - max[abs(prediction error in last batch)]} \n",
        "\n",
        "4) Rolling windows and cross validation.  Could this type of model perform better?\n"
      ]
    },
    {
      "cell_type": "markdown",
      "metadata": {
        "id": "NueQZQ-z1lcY",
        "colab_type": "text"
      },
      "source": [
        "# Scrap Code Below"
      ]
    },
    {
      "cell_type": "code",
      "metadata": {
        "id": "JHKfN83RTFZq",
        "colab_type": "code",
        "colab": {
          "base_uri": "https://localhost:8080/",
          "height": 238
        },
        "outputId": "66a3f189-3cff-4823-edf4-616fb3b88f63"
      },
      "source": [
        "breakithere\n",
        "# summarize history for loss\n",
        "def plot_loss(train_history=train_history, title='model loss'):\n",
        "    plt.plot(train_history.history['mean_squared_error'])\n",
        "    plt.plot(train_history.history['val_mean_squared_error'])\n",
        "    plt.title('title')\n",
        "    plt.ylabel('mse')\n",
        "    plt.xlabel('epoch')\n",
        "    plt.legend(['train', 'test'], loc='upper left')\n",
        "    return plt.show()\n",
        "\n",
        "#plot predictions vs actual\n",
        "def plot_pred_actual(fit_generator, Y_fit, X_train):\n",
        "    yhat_val = model.predict_generator(generator=fit_generator)\n",
        "    dt = 1\n",
        "    t = np.arange(0, yhat_val.shape[0], dt)\n",
        "    #scale t accordingly, since first values are not used\n",
        "    t = t+timesteps\n",
        "    plt.plot(t, Y_fit[timesteps:, :], t, yhat_val)\n",
        "    plt.axvline(x=(X_train.shape[0]), color='red', linestyle='--')\n",
        "    return plt.show()\n",
        "\n",
        "# summarize history for loss\n",
        "plot_loss(train_history=train_history, title='model loss: timesteps=6')\n",
        "\n",
        "#predict for the full set\n",
        "\n",
        "scaled_X = scaled_X.values\n",
        "scaled_Y = scaled_Y.values\n",
        "\n",
        "\n",
        "full_generator = TimeseriesGenerator(data=scaled_X, targets=scaled_Y, length=timesteps, batch_size=timesteps)\n",
        "\n",
        "yhat_full = model.predict_generator(generator=full_generator)\n",
        "dt = 1\n",
        "t = np.arange(0, yhat_full.shape[0], dt)\n",
        "#scale t accordingly, since first values are not used\n",
        "t = t+timesteps\n",
        "plt.plot(t, scaled_Y[timesteps:, :], t, yhat_full)\n",
        "plt.axvline(x=91, color='red', linestyle='--')\n",
        "plt.axvline(x=X_train.shape[0], color='green', linestyle='--')\n",
        "plt.show()\n",
        "\n",
        "from google.colab import files\n",
        "plt.plot(t, scaled_Y[timesteps:, :], 'k-', t, yhat_full, 'r-')\n",
        "plt.axvline(x=91, color='red', linestyle='--')\n",
        "plt.axvline(x=X_train.shape[0], color='green', linestyle='--')\n",
        "plt.suptitle(['pid'+str(pid)])\n",
        "plt.show()\n",
        "\n",
        "plt.savefig(\"abc\"+str(pid)+\".png\")\n",
        "\n",
        "time.sleep(5)\n",
        "files.download(\"abc\"+str(pid)+\".png\") "
      ],
      "execution_count": 99,
      "outputs": [
        {
          "output_type": "error",
          "ename": "NameError",
          "evalue": "ignored",
          "traceback": [
            "\u001b[0;31m---------------------------------------------------------------------------\u001b[0m",
            "\u001b[0;31mNameError\u001b[0m                                 Traceback (most recent call last)",
            "\u001b[0;32m<ipython-input-99-bdad5291b81b>\u001b[0m in \u001b[0;36m<module>\u001b[0;34m()\u001b[0m\n\u001b[0;32m----> 1\u001b[0;31m \u001b[0mbreakithere\u001b[0m\u001b[0;34m\u001b[0m\u001b[0;34m\u001b[0m\u001b[0m\n\u001b[0m\u001b[1;32m      2\u001b[0m \u001b[0;31m# summarize history for loss\u001b[0m\u001b[0;34m\u001b[0m\u001b[0;34m\u001b[0m\u001b[0;34m\u001b[0m\u001b[0m\n\u001b[1;32m      3\u001b[0m \u001b[0;32mdef\u001b[0m \u001b[0mplot_loss\u001b[0m\u001b[0;34m(\u001b[0m\u001b[0mtrain_history\u001b[0m\u001b[0;34m=\u001b[0m\u001b[0mtrain_history\u001b[0m\u001b[0;34m,\u001b[0m \u001b[0mtitle\u001b[0m\u001b[0;34m=\u001b[0m\u001b[0;34m'model loss'\u001b[0m\u001b[0;34m)\u001b[0m\u001b[0;34m:\u001b[0m\u001b[0;34m\u001b[0m\u001b[0;34m\u001b[0m\u001b[0m\n\u001b[1;32m      4\u001b[0m     \u001b[0mplt\u001b[0m\u001b[0;34m.\u001b[0m\u001b[0mplot\u001b[0m\u001b[0;34m(\u001b[0m\u001b[0mtrain_history\u001b[0m\u001b[0;34m.\u001b[0m\u001b[0mhistory\u001b[0m\u001b[0;34m[\u001b[0m\u001b[0;34m'mean_squared_error'\u001b[0m\u001b[0;34m]\u001b[0m\u001b[0;34m)\u001b[0m\u001b[0;34m\u001b[0m\u001b[0;34m\u001b[0m\u001b[0m\n\u001b[1;32m      5\u001b[0m     \u001b[0mplt\u001b[0m\u001b[0;34m.\u001b[0m\u001b[0mplot\u001b[0m\u001b[0;34m(\u001b[0m\u001b[0mtrain_history\u001b[0m\u001b[0;34m.\u001b[0m\u001b[0mhistory\u001b[0m\u001b[0;34m[\u001b[0m\u001b[0;34m'val_mean_squared_error'\u001b[0m\u001b[0;34m]\u001b[0m\u001b[0;34m)\u001b[0m\u001b[0;34m\u001b[0m\u001b[0;34m\u001b[0m\u001b[0m\n",
            "\u001b[0;31mNameError\u001b[0m: name 'breakithere' is not defined"
          ]
        }
      ]
    }
  ]
}