{
  "nbformat": 4,
  "nbformat_minor": 0,
  "metadata": {
    "colab": {
      "name": "Toy Series ",
      "provenance": [],
      "collapsed_sections": [],
      "authorship_tag": "ABX9TyOg1c+XTa1aKxhRIcTToblJ",
      "include_colab_link": true
    },
    "kernelspec": {
      "name": "python3",
      "display_name": "Python 3"
    }
  },
  "cells": [
    {
      "cell_type": "markdown",
      "metadata": {
        "id": "view-in-github",
        "colab_type": "text"
      },
      "source": [
        "<a href=\"https://colab.research.google.com/github/mknomics/tradewars/blob/LSTM/Toy_Series.ipynb\" target=\"_parent\"><img src=\"https://colab.research.google.com/assets/colab-badge.svg\" alt=\"Open In Colab\"/></a>"
      ]
    },
    {
      "cell_type": "code",
      "metadata": {
        "id": "8hUiKh9mPd-1",
        "colab_type": "code",
        "outputId": "82ad628f-c9bb-40b3-a5b4-cf12b52bdb8d",
        "colab": {
          "base_uri": "https://localhost:8080/",
          "height": 221
        }
      },
      "source": [
        "import tensorflow as tf\n",
        "import numpy as np\n",
        "import pandas as pd\n",
        "import matplotlib.pyplot as plt\n",
        "#from tensorflow import keras\n",
        "import os \n",
        "import zipfile\n",
        "#import sklearn\n",
        "\n",
        "#imports\n",
        "'''\n",
        "from tensorflow import keras\n",
        "from tensorflow.keras.models import Sequential\n",
        "#from keras import optimizers\n",
        "from tensorflow.keras.optimizers import SGD\n",
        "#from tensorflow.keras.wrappers.scikit_learn import KerasRegressor\n",
        "from tensorflow.keras.layers import Dense, Dropout, LSTM, CuDNNLSTM\n",
        "from tensorflow.keras import metrics\n",
        "\n",
        "'''\n",
        "\n",
        "from sklearn.preprocessing import MinMaxScaler\n",
        "\n",
        "\n",
        "url = 'https://raw.githubusercontent.com/mknomics/tradewars/master/final1268.csv'\n",
        "\n",
        "df = pd.read_csv(url)\n",
        "df.head()\n",
        "#first row has N/A values - drop this row\n",
        "print(df.isna().sum())\n",
        "df = df.drop(index=0)\n",
        "\n",
        "period = df['period']\n",
        "df = df.drop(columns=['x', 'T', 'r2', 's', 'sf', '_merge','period','HS7','pid','month', '_Imonth_2', '_Imonth_3', '_Imonth_4', '_Imonth_5', '_Imonth_6', '_Imonth_7', '_Imonth_8', '_Imonth_9', '_Imonth_10', '_Imonth_11', '_Imonth_12'])\n",
        "\n",
        "\n",
        "\n",
        "\n",
        "\n",
        "#slice X and Y sets\n",
        "X = df.iloc[:,1:].values\n",
        "Y = df.iloc[:,0].values\n",
        "Y = np.reshape(Y, (Y.shape[0],1))\n",
        "\n",
        "#scale X and Y\n",
        "X_scaler = MinMaxScaler(feature_range=(0,1))\n",
        "Y_scaler = MinMaxScaler(feature_range=(0,1))\n",
        "\n",
        "\n",
        "scaled_X = pd.DataFrame(X_scaler.fit_transform(X))\n",
        "scaled_Y = pd.DataFrame(Y_scaler.fit_transform(Y))\n",
        "\n",
        "\n"
      ],
      "execution_count": 51,
      "outputs": [
        {
          "output_type": "stream",
          "text": [
            "period    0\n",
            "HS7       0\n",
            "T         0\n",
            "pid       0\n",
            "y         0\n",
            "         ..\n",
            "_merge    0\n",
            "x         1\n",
            "r2        0\n",
            "s         1\n",
            "sf        1\n",
            "Length: 117, dtype: int64\n"
          ],
          "name": "stdout"
        }
      ]
    },
    {
      "cell_type": "markdown",
      "metadata": {
        "id": "mrqjLQ41hVkz",
        "colab_type": "text"
      },
      "source": [
        "# Logic of the slice\n",
        "Tariff is announced at df.iloc[91:,:].  I originally sliced the pre-announcement period into a training and validation set (as seen below).  But these are not the same shape, which is a problem for LSTM models.  \n",
        "\n",
        "I then moved away from this slicing scheme and moved towards creating windows in the dataset using TimeSeriesGenerator().  For now, I am using the set, X_fit, Y_fit, which includes all of the pre-treatment data.  But I am aware that there are parameters within TimeSeriesGenerator(), that might allow me to use the full dataset scaled_X , scaled_Y"
      ]
    },
    {
      "cell_type": "code",
      "metadata": {
        "id": "6pcq42tcr5mU",
        "colab_type": "code",
        "colab": {
          "base_uri": "https://localhost:8080/",
          "height": 51
        },
        "outputId": "881f7365-29ef-4196-d451-719787b82c8e"
      },
      "source": [
        "'''\n",
        "We will use a rolling window of size=timesteps.  This is used to dynamically split \n",
        "data so that the validation set is of size=timesteps.  \"timesteps\" is then used\n",
        "in the data generator below\n",
        "\n",
        "I pick a window = 12 because there are 12 months in a year\n",
        "'''\n",
        "timesteps = 12 \n",
        "\n",
        "#define pre-treatment period\n",
        "X_pre = scaled_X.iloc[:90,:].values\n",
        "Y_pre = scaled_Y.iloc[:90,:].values\n",
        "\n",
        "#define training sets\n",
        "X_train = X_pre[0:-timesteps,:]\n",
        "Y_train = Y_pre[0:-timesteps,:]\n",
        "\n",
        "#define validation sets\n",
        "X_validate = X_pre[-timesteps:,:]\n",
        "Y_validate = Y_pre[-timesteps:,:]\n",
        "\n",
        "#define test set, note that test set cannot be used with a data generator and a window = 12\n",
        "#X_test_scaled = X_train.iloc[91:99,:]\n",
        "#Y_test_scaled = Y_train.iloc[:,0]\n",
        "\n",
        "'''\n",
        "After hyperparameter optimization, I want to then fit the model on both sets\n",
        "'''\n",
        "#Fit set = train + validate\n",
        "Y_fit = np.concatenate((Y_train, Y_validate), axis=0)\n",
        "X_fit = np.concatenate((X_train, X_validate), axis=0)\n",
        "\n",
        "\n",
        "'''\n",
        "# Reshape X and Y to be 3D compatible with LSTM\n",
        "X_train = X_train.reshape(1,X_train.shape[0], X_train.shape[1])\n",
        "Y_train = Y_train.reshape(1,Y_train.shape[0], Y_train.shape[1])\n",
        "\n",
        "X_validate = X_validate.reshape(1,X_validate.shape[0], X_validate.shape[1])\n",
        "Y_validate = Y_validate.reshape(1,Y_validate.shape[0], Y_validate.shape[1])\n",
        "\n",
        "X_fit = X_fit.reshape(1,X_fit.shape[0], X_fit.shape[1])\n",
        "Y_fit = Y_fit.reshape(1,Y_fit.shape[0], Y_fit.shape[1])\n",
        "\n",
        "X = X.reshape(1,X.shape[0], X.shape[1])\n",
        "Y = Y.reshape(1,Y.shape[0], Y.shape[1])\n",
        "'''\n",
        "print(\"X_train shape\", X_train.shape, \"X_validate shape:\", X_validate.shape, \"X_fit shape:\", X_fit.shape, \"X shape:\", X.shape)\n",
        "print(\"Y_train shape\", Y_train.shape, \"Y_validate shape:\", Y_validate.shape, \"Y_fit shape\", Y_fit.shape, \"Y shape\", Y.shape)"
      ],
      "execution_count": 52,
      "outputs": [
        {
          "output_type": "stream",
          "text": [
            "X_train shape (78, 95) X_validate shape: (12, 95) X_fit shape: (90, 95) X shape: (107, 95)\n",
            "Y_train shape (78, 1) Y_validate shape: (12, 1) Y_fit shape (90, 1) Y shape (107, 1)\n"
          ],
          "name": "stdout"
        }
      ]
    },
    {
      "cell_type": "code",
      "metadata": {
        "id": "eprnJJWr0XS8",
        "colab_type": "code",
        "colab": {}
      },
      "source": [
        ""
      ],
      "execution_count": 0,
      "outputs": []
    },
    {
      "cell_type": "markdown",
      "metadata": {
        "id": "epqdN-zDjEHg",
        "colab_type": "text"
      },
      "source": [
        "# Using TimeSeriesGenerator to create windows"
      ]
    },
    {
      "cell_type": "code",
      "metadata": {
        "id": "tlp2K6NhThAg",
        "colab_type": "code",
        "colab": {}
      },
      "source": [
        "from numpy import array\n",
        "from numpy import hstack\n",
        "from keras.models import Sequential\n",
        "from keras.layers import Dense\n",
        "from keras.layers import LSTM\n",
        "from keras.layers import Dropout\n",
        "from keras.layers import Flatten\n",
        "from keras.layers import CuDNNLSTM\n",
        "from keras.preprocessing.sequence import TimeseriesGenerator\n",
        "from keras import metrics\n",
        "from keras.optimizers import SGD\n",
        "\n",
        "#from tensorflow.keras import metrics\n",
        "#from tensorflow.keras.optimizers import SGD\n",
        "#from tensorflow.python.keras.utils.data_utils import Sequence\n",
        "\n",
        "# load data\n",
        "data = X_fit\n",
        "targets = Y_fit\n",
        "\n",
        "# define generator\n",
        "# timesteps are defined above in \"data split\" section, in order to dynamically split the data to size \n",
        "n_features = X_fit.shape[1]\n",
        "\n",
        "#Create training and validtion generators\n",
        "train_generator = TimeseriesGenerator(data=X_train, targets=Y_train, length=timesteps, batch_size=timesteps)\n",
        "validation_generator = TimeseriesGenerator(data=X_validate, targets=Y_validate, length=7, batch_size=timesteps)\n",
        "\n",
        "#after model selection then fit on training + validation data\n",
        "fit_generator = TimeseriesGenerator(data=X_fit, targets=Y_fit, length=timesteps, batch_size=timesteps)\n",
        "\n",
        "#prediction model for post treatment\n",
        "full_generator = TimeseriesGenerator(data=X, targets=Y, length=timesteps, batch_size=timesteps)\n"
      ],
      "execution_count": 0,
      "outputs": []
    },
    {
      "cell_type": "code",
      "metadata": {
        "id": "UBECwp-w7gLZ",
        "colab_type": "code",
        "colab": {}
      },
      "source": [
        ""
      ],
      "execution_count": 0,
      "outputs": []
    },
    {
      "cell_type": "code",
      "metadata": {
        "id": "sNNUv8q5vrfz",
        "colab_type": "code",
        "colab": {
          "base_uri": "https://localhost:8080/",
          "height": 34
        },
        "outputId": "d088efd3-e426-4c77-ec20-3b52f3b6dc7e"
      },
      "source": [
        "print(X_fit.shape, Y_fit.shape)"
      ],
      "execution_count": 77,
      "outputs": [
        {
          "output_type": "stream",
          "text": [
            "(90, 95) (90, 1)\n"
          ],
          "name": "stdout"
        }
      ]
    },
    {
      "cell_type": "markdown",
      "metadata": {
        "id": "bDWtNoWThIb8",
        "colab_type": "text"
      },
      "source": [
        "# Documentation on TimeSeriesGenerator: \n",
        "data: Indexable generator (such as list or Numpy array) containing consecutive data points (timesteps). The data should be at 2D, and axis 0 is expected to be the time dimension.\n",
        "\n",
        "targets: Targets corresponding to timesteps in data. It should have same length as data.\n",
        "\n",
        "length: Length of the output sequences (in number of timesteps).\n",
        "\n",
        "sampling_rate: Period between successive individual timesteps within sequences. For rate r, timesteps data[i], data[i-r], ... data[i - length] are used for create a sample sequence.\n",
        "\n",
        "stride: Period between successive output sequences. For stride s, consecutive output samples would be centered around data[i], data[i+s], data[i+2*s], etc.\n",
        "\n",
        "start_index: Data points earlier than start_index will not be used in the output sequences. This is useful to reserve part of the data for test or validation.\n",
        "\n",
        "end_index: Data points later than end_index will not be used in the output sequences. This is useful to reserve part of the data for test or validation.\n",
        "\n",
        "shuffle: Whether to shuffle output samples, or instead draw them in chronological order.\n",
        "\n",
        "reverse: Boolean: if true, timesteps in each output sample will be in reverse chronological order.\n",
        "\n",
        "batch_size: Number of timeseries samples in each batch (except maybe the last one).\n"
      ]
    },
    {
      "cell_type": "markdown",
      "metadata": {
        "id": "gDZHGXAgjLyw",
        "colab_type": "text"
      },
      "source": [
        "# The Simple Model \n",
        "model.fit is now using model.fit_generator method \n",
        "\n",
        "Step 1 is to get a simple model up and running, then optimize design\n"
      ]
    },
    {
      "cell_type": "code",
      "metadata": {
        "id": "mLypmOqSPzpR",
        "colab_type": "code",
        "outputId": "34d48045-d5e6-47f7-8eeb-df9ad2618505",
        "colab": {
          "base_uri": "https://localhost:8080/",
          "height": 543
        }
      },
      "source": [
        "#make model\n",
        "model = Sequential()\n",
        "'''\n",
        "NOTE: TimeseriesGenerator creates a set with length timesteps\n",
        "'''\n",
        "model.add(LSTM(50, input_shape=(timesteps, n_features), activation=\"relu\", return_sequences=True)) \n",
        "#model.add(LSTM(50, batch_input_shape=(timesteps, n_features), activation=\"relu\", return_sequences=True, stateful=True))  \n",
        "model.add(Dropout(0.3))\n",
        "'''\n",
        "NOTE: Adding Flatten solves dimensionality problem but need to better understand implications of Flatten layer\n",
        "LSTM is a 3 dim object but then Dens layers take 2D is my current understanding.  Still not 100 percent sure.\n",
        "'''\n",
        "model.add(Flatten())\n",
        "'''\n",
        "model.add(Dense(40, activation='relu'))\n",
        "model.add(Dropout(0.3))\n",
        "'''\n",
        "\n",
        "model.add(Dense(1)) \n",
        "\n",
        "optimizer = SGD(lr=0.0001, momentum=0.001, decay=0.001, nesterov=False)\n",
        "\n",
        "model.compile(loss='mean_squared_error', \n",
        "              optimizer=optimizer, \n",
        "              metrics=['mean_squared_error'])\n",
        "# fit model\n",
        "train_history = model.fit_generator(train_generator, steps_per_epoch=1, epochs=500, verbose=0)  \n",
        "#model.fit(X_train, Y_train , validation_data=(X_validate, Y_validate), epochs=2 , verbose=1) # This model crapped out because training and validation are not same shape\n",
        "\n",
        "#Evaluate the model\n",
        "\n",
        "# summarize history for loss\n",
        "plt.plot(train_history.history['mean_squared_error'])\n",
        "plt.title('model loss')\n",
        "plt.ylabel('mse')\n",
        "plt.xlabel('epoch')\n",
        "plt.legend(['train'], loc='upper left')\n",
        "plt.show()\n",
        "\n",
        "#model.predict(X_validate)\n",
        "#print(history.history.keys())\n",
        "yhat_val = model.predict_generator(generator=fit_generator)\n",
        "\n",
        "#plot predictions vs actual\n",
        "\n",
        "dt = 1\n",
        "t = np.arange(0, yhat_val.shape[0], dt)\n",
        "\n",
        "plt.plot(t, Y_fit[timesteps:, :], t, yhat_val)\n",
        "\n",
        "plt.grid(True)\n",
        "\n",
        "plt.show()"
      ],
      "execution_count": 83,
      "outputs": [
        {
          "output_type": "display_data",
          "data": {
            "image/png": "[encoded data removed]",
            "text/plain": [
              "<Figure size 432x288 with 1 Axes>"
            ]
          },
          "metadata": {
            "tags": []
          }
        },
        {
          "output_type": "display_data",
          "data": {
            "image/png": "[encoded data removed]",
            "text/plain": [
              "<Figure size 432x288 with 1 Axes>"
            ]
          },
          "metadata": {
            "tags": []
          }
        }
      ]
    }
  ]
}